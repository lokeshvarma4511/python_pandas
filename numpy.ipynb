{
 "cells": [
  {
   "cell_type": "markdown",
   "id": "7cde8b80",
   "metadata": {},
   "source": [
    "numpy"
   ]
  },
  {
   "cell_type": "code",
   "execution_count": 10,
   "id": "0dc707d1",
   "metadata": {},
   "outputs": [],
   "source": [
    "import numpy as np"
   ]
  },
  {
   "cell_type": "code",
   "execution_count": 11,
   "id": "5ebfc67e",
   "metadata": {},
   "outputs": [],
   "source": [
    "#np.array([10,20,9]),b.ndim,b.shape,b.shape,b.itemsize,b.nbytes,b=np.zeros((2,3)),b=a.copy(),b=np.ones((2,3,5)),b=np.full((2,2),3),np.random.rand(2,3),np.asarray(a,dtype=int),np.identity(3),a=np.linspace(0,20,14,dtype=int),a=a.reshape(7,2),a.reshape(2,3),a.ravel(),b.flatten(),b.T,np.add(),np.sub(),np.multiply().np.divide(),np.dot(),np.sum(arr),arr1.sum(axis=1),np.min(axix=1,0),np.max,np.sqrt(arr),np.std(),np.log(),np.log10(),np.concatenate(a,b),np.hstach,vstack,np.split()"
   ]
  },
  {
   "cell_type": "code",
   "execution_count": 12,
   "id": "1ddeccfa",
   "metadata": {},
   "outputs": [
    {
     "data": {
      "text/plain": [
       "13"
      ]
     },
     "execution_count": 12,
     "metadata": {},
     "output_type": "execute_result"
    }
   ],
   "source": [
    "import numpy as np\n",
    "\n",
    "\n",
    "\n",
    "a=np.array([10,20,9])                        #1D array\n",
    "a.ndim\n",
    "\n",
    "len(a)\n",
    "\n",
    "b=np.array([[10,20],[34,44]])               #2D array\n",
    "b\n",
    "b.ndim\n",
    "b\n",
    "\n",
    "\n",
    "\n",
    "\n",
    "b.shape\n",
    "\n",
    "b.shape\n",
    "\n",
    "len(b)\n",
    "\n",
    "b.itemsize\n",
    "\n",
    "b.nbytes\n",
    "\n",
    "b=np.array([[10,20,22,10,23,85,1],[34,44,63,51,203,112,17],[11,12,40,5,102,36,22]])\n",
    "\n",
    "b[1][2]\n",
    "\n",
    "b[1,:]\n",
    "\n",
    "b[:,1]\n",
    "\n",
    "dim3=np.array([[[10,20,1],[30,22,15]],[[5,10,20],[226,3,15]]])                #3D array\n",
    "\n",
    "dim3.size\n",
    "\n",
    "b=np.zeros((2,3))\n",
    "b\n",
    "\n",
    "#creating automatic array\n",
    "b=np.ones((2,3,5))\n",
    "b\n",
    "\n",
    "b=np.full((2,2),3)\n",
    "b\n",
    "\n",
    "                            #indirectly creating\n",
    "a=[23,55,2,32,13]\n",
    "a=np.array(a,dtype=float,order='F')\n",
    "a.dtype\n",
    "a\n",
    "\n",
    "a=np.random.rand(2,3)\n",
    "a\n",
    "\n",
    "a.dtype\n",
    "\n",
    "a=np.asarray(a,dtype=int)\n",
    "\n",
    "a\n",
    "\n",
    "a=np.identity(3)                       #identity matix\n",
    "a\n",
    "\n",
    "                            #copy function\n",
    "a=[12,55,2,33,6,45,41,2,2,20,65,6,2]\n",
    "b=a.copy()\n",
    "\n",
    "b[0]=100\n",
    "\n",
    "a\n",
    "\n",
    "b\n",
    "\n",
    "a\n",
    "\n",
    "a=np.array(a)\n",
    "\n",
    "a\n",
    "a.size\n",
    "\n",
    "a+a\n",
    "\n",
    "a.size\n",
    "\n"
   ]
  },
  {
   "cell_type": "code",
   "execution_count": 13,
   "id": "0c6e897f",
   "metadata": {},
   "outputs": [
    {
     "data": {
      "text/plain": [
       "array([[0.15224306, 0.1050475 , 0.67656724],\n",
       "       [0.82320471, 0.69279427, 0.76377482]])"
      ]
     },
     "execution_count": 13,
     "metadata": {},
     "output_type": "execute_result"
    }
   ],
   "source": [
    "a=np.empty((2,3))\n",
    "a"
   ]
  },
  {
   "cell_type": "code",
   "execution_count": 14,
   "id": "bf099bbc",
   "metadata": {},
   "outputs": [
    {
     "data": {
      "text/plain": [
       "array([['5', '5', '5'],\n",
       "       ['5', '5', '5'],\n",
       "       ['5', '5', '5']], dtype='<U1')"
      ]
     },
     "execution_count": 14,
     "metadata": {},
     "output_type": "execute_result"
    }
   ],
   "source": [
    "a1=np.full((3,3),5,dtype=str)\n",
    "a1\n"
   ]
  },
  {
   "cell_type": "code",
   "execution_count": 15,
   "id": "b077712c",
   "metadata": {},
   "outputs": [
    {
     "data": {
      "text/plain": [
       "(3, 3)"
      ]
     },
     "execution_count": 15,
     "metadata": {},
     "output_type": "execute_result"
    }
   ],
   "source": [
    "a1.shape\n"
   ]
  },
  {
   "cell_type": "code",
   "execution_count": 16,
   "id": "d726f01a",
   "metadata": {},
   "outputs": [
    {
     "data": {
      "text/plain": [
       "array([ 23,  11,   2,   5,  44,   5,   6,  23, 312,   3])"
      ]
     },
     "execution_count": 16,
     "metadata": {},
     "output_type": "execute_result"
    }
   ],
   "source": [
    "\n",
    "a1=[23,11,2,5,44,5,6,23,312,3]\n",
    "a1=np.array(a1)\n",
    "a1"
   ]
  },
  {
   "cell_type": "code",
   "execution_count": null,
   "id": "adc7aafb",
   "metadata": {},
   "outputs": [],
   "source": []
  },
  {
   "cell_type": "code",
   "execution_count": null,
   "id": "c30fbd54",
   "metadata": {},
   "outputs": [],
   "source": []
  },
  {
   "cell_type": "markdown",
   "id": "f265a3b9",
   "metadata": {},
   "source": [
    "# ARANGE()"
   ]
  },
  {
   "cell_type": "code",
   "execution_count": 17,
   "id": "74fb9f52",
   "metadata": {},
   "outputs": [
    {
     "data": {
      "text/plain": [
       "array([0, 1, 2, 3, 4, 5, 6, 7, 8, 9])"
      ]
     },
     "execution_count": 17,
     "metadata": {},
     "output_type": "execute_result"
    }
   ],
   "source": [
    "np.arange(10)\n"
   ]
  },
  {
   "cell_type": "code",
   "execution_count": 18,
   "id": "bbc2280c",
   "metadata": {},
   "outputs": [
    {
     "data": {
      "text/plain": [
       "array([ 1,  6, 11, 16, 21, 26, 31, 36, 41, 46, 51, 56, 61, 66, 71, 76, 81,\n",
       "       86, 91, 96])"
      ]
     },
     "execution_count": 18,
     "metadata": {},
     "output_type": "execute_result"
    }
   ],
   "source": [
    "a=np.arange(1,100,5)\n",
    "a"
   ]
  },
  {
   "cell_type": "markdown",
   "id": "1f1e0652",
   "metadata": {},
   "source": [
    "# linspace()"
   ]
  },
  {
   "cell_type": "code",
   "execution_count": 19,
   "id": "8b3bc9b8",
   "metadata": {},
   "outputs": [
    {
     "data": {
      "text/plain": [
       "array([ 0,  1,  3,  4,  6,  7,  9, 10, 12, 13, 15, 16, 18, 20])"
      ]
     },
     "execution_count": 19,
     "metadata": {},
     "output_type": "execute_result"
    }
   ],
   "source": [
    "a=np.linspace(0,20,14,dtype=int)\n",
    "a"
   ]
  },
  {
   "cell_type": "code",
   "execution_count": 20,
   "id": "55415263",
   "metadata": {},
   "outputs": [
    {
     "data": {
      "text/plain": [
       "14"
      ]
     },
     "execution_count": 20,
     "metadata": {},
     "output_type": "execute_result"
    }
   ],
   "source": [
    "a.size"
   ]
  },
  {
   "cell_type": "markdown",
   "id": "142ba39e",
   "metadata": {},
   "source": [
    "# reshape()"
   ]
  },
  {
   "cell_type": "code",
   "execution_count": 21,
   "id": "59469ecb",
   "metadata": {},
   "outputs": [
    {
     "data": {
      "text/plain": [
       "array([[ 0,  1],\n",
       "       [ 3,  4],\n",
       "       [ 6,  7],\n",
       "       [ 9, 10],\n",
       "       [12, 13],\n",
       "       [15, 16],\n",
       "       [18, 20]])"
      ]
     },
     "execution_count": 21,
     "metadata": {},
     "output_type": "execute_result"
    }
   ],
   "source": [
    "a=a.reshape(7,2)\n",
    "a"
   ]
  },
  {
   "cell_type": "code",
   "execution_count": 22,
   "id": "dd26e525",
   "metadata": {},
   "outputs": [
    {
     "data": {
      "text/plain": [
       "(7, 2)"
      ]
     },
     "execution_count": 22,
     "metadata": {},
     "output_type": "execute_result"
    }
   ],
   "source": [
    "a.shape"
   ]
  },
  {
   "cell_type": "code",
   "execution_count": 23,
   "id": "1f9064cf",
   "metadata": {},
   "outputs": [
    {
     "data": {
      "text/plain": [
       "2"
      ]
     },
     "execution_count": 23,
     "metadata": {},
     "output_type": "execute_result"
    }
   ],
   "source": [
    "a.ndim"
   ]
  },
  {
   "cell_type": "code",
   "execution_count": 24,
   "id": "50798f05",
   "metadata": {},
   "outputs": [],
   "source": [
    "a3=np.linspace(0,20,16,dtype=int)"
   ]
  },
  {
   "cell_type": "code",
   "execution_count": 25,
   "id": "aca26216",
   "metadata": {},
   "outputs": [
    {
     "data": {
      "text/plain": [
       "array([[[ 0,  1,  2,  4],\n",
       "        [ 5,  6,  8,  9]],\n",
       "\n",
       "       [[10, 12, 13, 14],\n",
       "        [16, 17, 18, 20]]])"
      ]
     },
     "execution_count": 25,
     "metadata": {},
     "output_type": "execute_result"
    }
   ],
   "source": [
    "a3.reshape(2,2,4)"
   ]
  },
  {
   "cell_type": "code",
   "execution_count": 26,
   "id": "da228b84",
   "metadata": {},
   "outputs": [
    {
     "data": {
      "text/plain": [
       "(16,)"
      ]
     },
     "execution_count": 26,
     "metadata": {},
     "output_type": "execute_result"
    }
   ],
   "source": [
    "a3.shape"
   ]
  },
  {
   "cell_type": "code",
   "execution_count": 27,
   "id": "f0e2536d",
   "metadata": {},
   "outputs": [
    {
     "data": {
      "text/plain": [
       "1"
      ]
     },
     "execution_count": 27,
     "metadata": {},
     "output_type": "execute_result"
    }
   ],
   "source": [
    "a3.ndim"
   ]
  },
  {
   "cell_type": "code",
   "execution_count": 28,
   "id": "f08b2bd1",
   "metadata": {},
   "outputs": [
    {
     "data": {
      "text/plain": [
       "array([[ 0,  2,  4,  6,  8],\n",
       "       [10, 12, 14, 16, 18]])"
      ]
     },
     "execution_count": 28,
     "metadata": {},
     "output_type": "execute_result"
    }
   ],
   "source": [
    "a=np.arange(0,20,2).reshape(2,5)\n",
    "a"
   ]
  },
  {
   "cell_type": "code",
   "execution_count": 29,
   "id": "23572e9e",
   "metadata": {},
   "outputs": [],
   "source": [
    "b=a.copy()"
   ]
  },
  {
   "cell_type": "markdown",
   "id": "bcf69c22",
   "metadata": {},
   "source": [
    "# RAVEL()  AND FLATTEN()"
   ]
  },
  {
   "cell_type": "code",
   "execution_count": 30,
   "id": "dc7dc96b",
   "metadata": {},
   "outputs": [
    {
     "data": {
      "text/plain": [
       "array([ 0,  2,  4,  6,  8, 10, 12, 14, 16, 18])"
      ]
     },
     "execution_count": 30,
     "metadata": {},
     "output_type": "execute_result"
    }
   ],
   "source": [
    "a.ravel()"
   ]
  },
  {
   "cell_type": "code",
   "execution_count": 31,
   "id": "447d8bd5",
   "metadata": {},
   "outputs": [
    {
     "data": {
      "text/plain": [
       "array([[ 0,  2,  4,  6,  8],\n",
       "       [10, 12, 14, 16, 18]])"
      ]
     },
     "execution_count": 31,
     "metadata": {},
     "output_type": "execute_result"
    }
   ],
   "source": [
    "a"
   ]
  },
  {
   "cell_type": "code",
   "execution_count": null,
   "id": "dca620d9",
   "metadata": {},
   "outputs": [],
   "source": []
  },
  {
   "cell_type": "code",
   "execution_count": 32,
   "id": "1cb4fdd2",
   "metadata": {},
   "outputs": [
    {
     "data": {
      "text/plain": [
       "array([[ 0,  2,  4,  6,  8],\n",
       "       [10, 12, 14, 16, 18]])"
      ]
     },
     "execution_count": 32,
     "metadata": {},
     "output_type": "execute_result"
    }
   ],
   "source": [
    "b.flatten()\n",
    "b"
   ]
  },
  {
   "cell_type": "code",
   "execution_count": 33,
   "id": "495adecd",
   "metadata": {},
   "outputs": [
    {
     "data": {
      "text/plain": [
       "(2, 5)"
      ]
     },
     "execution_count": 33,
     "metadata": {},
     "output_type": "execute_result"
    }
   ],
   "source": [
    "b.shape"
   ]
  },
  {
   "cell_type": "code",
   "execution_count": 34,
   "id": "66e0995b",
   "metadata": {},
   "outputs": [
    {
     "data": {
      "text/plain": [
       "array([[ 0,  2,  4,  6,  8],\n",
       "       [10, 12, 14, 16, 18]])"
      ]
     },
     "execution_count": 34,
     "metadata": {},
     "output_type": "execute_result"
    }
   ],
   "source": [
    "b"
   ]
  },
  {
   "cell_type": "markdown",
   "id": "13ed5064",
   "metadata": {},
   "source": [
    "# transpose"
   ]
  },
  {
   "cell_type": "code",
   "execution_count": 35,
   "id": "e50ce5fb",
   "metadata": {},
   "outputs": [
    {
     "data": {
      "text/plain": [
       "array([[ 0,  2,  4,  6,  8],\n",
       "       [10, 12, 14, 16, 18]])"
      ]
     },
     "execution_count": 35,
     "metadata": {},
     "output_type": "execute_result"
    }
   ],
   "source": [
    "b"
   ]
  },
  {
   "cell_type": "code",
   "execution_count": 36,
   "id": "db24f643",
   "metadata": {},
   "outputs": [
    {
     "data": {
      "text/plain": [
       "array([[ 0, 10],\n",
       "       [ 2, 12],\n",
       "       [ 4, 14],\n",
       "       [ 6, 16],\n",
       "       [ 8, 18]])"
      ]
     },
     "execution_count": 36,
     "metadata": {},
     "output_type": "execute_result"
    }
   ],
   "source": [
    "b.transpose()"
   ]
  },
  {
   "cell_type": "code",
   "execution_count": 37,
   "id": "8e6f5e60",
   "metadata": {},
   "outputs": [
    {
     "data": {
      "text/plain": [
       "array([[ 0, 10],\n",
       "       [ 2, 12],\n",
       "       [ 4, 14],\n",
       "       [ 6, 16],\n",
       "       [ 8, 18]])"
      ]
     },
     "execution_count": 37,
     "metadata": {},
     "output_type": "execute_result"
    }
   ],
   "source": [
    "b.T"
   ]
  },
  {
   "cell_type": "markdown",
   "id": "10ed24df",
   "metadata": {},
   "source": [
    "# mathematic operations using numpy"
   ]
  },
  {
   "cell_type": "code",
   "execution_count": 38,
   "id": "fee82b79",
   "metadata": {},
   "outputs": [
    {
     "name": "stdout",
     "output_type": "stream",
     "text": [
      "[[ 1  5  9 14]\n",
      " [18 23 27 32]\n",
      " [36 41 45 50]]\n"
     ]
    },
    {
     "data": {
      "text/plain": [
       "array([[ 1,  5,  9, 13],\n",
       "       [17, 21, 25, 29],\n",
       "       [33, 37, 41, 45]])"
      ]
     },
     "execution_count": 38,
     "metadata": {},
     "output_type": "execute_result"
    }
   ],
   "source": [
    "arr1=np.linspace(1,50,12,dtype=int).reshape(3,4)\n",
    "arr2=np.arange(1,48,4).reshape(3,4)\n",
    "print(arr1)\n",
    "arr2"
   ]
  },
  {
   "cell_type": "code",
   "execution_count": 39,
   "id": "f6e53245",
   "metadata": {},
   "outputs": [
    {
     "data": {
      "text/plain": [
       "array([[ 2, 10, 18, 27],\n",
       "       [35, 44, 52, 61],\n",
       "       [69, 78, 86, 95]])"
      ]
     },
     "execution_count": 39,
     "metadata": {},
     "output_type": "execute_result"
    }
   ],
   "source": [
    "arr1+arr2"
   ]
  },
  {
   "cell_type": "code",
   "execution_count": 40,
   "id": "ad9c681e",
   "metadata": {},
   "outputs": [
    {
     "data": {
      "text/plain": [
       "array([[ 2, 10, 18, 27],\n",
       "       [35, 44, 52, 61],\n",
       "       [69, 78, 86, 95]])"
      ]
     },
     "execution_count": 40,
     "metadata": {},
     "output_type": "execute_result"
    }
   ],
   "source": [
    "np.add(arr1,arr2)"
   ]
  },
  {
   "cell_type": "code",
   "execution_count": 41,
   "id": "24726918",
   "metadata": {},
   "outputs": [
    {
     "data": {
      "text/plain": [
       "array([[ 0,  0,  0, -1],\n",
       "       [-1, -2, -2, -3],\n",
       "       [-3, -4, -4, -5]])"
      ]
     },
     "execution_count": 41,
     "metadata": {},
     "output_type": "execute_result"
    }
   ],
   "source": [
    "arr2-arr1"
   ]
  },
  {
   "cell_type": "code",
   "execution_count": 42,
   "id": "d7c92caf",
   "metadata": {},
   "outputs": [
    {
     "data": {
      "text/plain": [
       "array([[ 0,  0,  0, -1],\n",
       "       [-1, -2, -2, -3],\n",
       "       [-3, -4, -4, -5]])"
      ]
     },
     "execution_count": 42,
     "metadata": {},
     "output_type": "execute_result"
    }
   ],
   "source": [
    "np.subtract(arr2,arr1)"
   ]
  },
  {
   "cell_type": "code",
   "execution_count": 43,
   "id": "830c104b",
   "metadata": {},
   "outputs": [
    {
     "data": {
      "text/plain": [
       "array([[1.        , 1.        , 1.        , 1.07692308],\n",
       "       [1.05882353, 1.0952381 , 1.08      , 1.10344828],\n",
       "       [1.09090909, 1.10810811, 1.09756098, 1.11111111]])"
      ]
     },
     "execution_count": 43,
     "metadata": {},
     "output_type": "execute_result"
    }
   ],
   "source": [
    "arr1 / arr2"
   ]
  },
  {
   "cell_type": "code",
   "execution_count": 44,
   "id": "9d1c68f3",
   "metadata": {},
   "outputs": [
    {
     "data": {
      "text/plain": [
       "array([[1.        , 1.        , 1.        , 1.07692308],\n",
       "       [1.05882353, 1.0952381 , 1.08      , 1.10344828],\n",
       "       [1.09090909, 1.10810811, 1.09756098, 1.11111111]])"
      ]
     },
     "execution_count": 44,
     "metadata": {},
     "output_type": "execute_result"
    }
   ],
   "source": [
    "np.divide(arr1,arr2)"
   ]
  },
  {
   "cell_type": "code",
   "execution_count": 45,
   "id": "bf101714",
   "metadata": {},
   "outputs": [
    {
     "data": {
      "text/plain": [
       "array([[ 1,  5,  9, 14],\n",
       "       [18, 23, 27, 32],\n",
       "       [36, 41, 45, 50]])"
      ]
     },
     "execution_count": 45,
     "metadata": {},
     "output_type": "execute_result"
    }
   ],
   "source": [
    "arr1"
   ]
  },
  {
   "cell_type": "code",
   "execution_count": 46,
   "id": "218afcda",
   "metadata": {},
   "outputs": [
    {
     "data": {
      "text/plain": [
       "array([[ 1,  5,  9, 13],\n",
       "       [17, 21, 25, 29],\n",
       "       [33, 37, 41, 45]])"
      ]
     },
     "execution_count": 46,
     "metadata": {},
     "output_type": "execute_result"
    }
   ],
   "source": [
    "arr2"
   ]
  },
  {
   "cell_type": "code",
   "execution_count": 47,
   "id": "98b0f456",
   "metadata": {},
   "outputs": [
    {
     "data": {
      "text/plain": [
       "array([[   1,   25,   81,  182],\n",
       "       [ 306,  483,  675,  928],\n",
       "       [1188, 1517, 1845, 2250]])"
      ]
     },
     "execution_count": 47,
     "metadata": {},
     "output_type": "execute_result"
    }
   ],
   "source": [
    "arr1*arr2"
   ]
  },
  {
   "cell_type": "code",
   "execution_count": 48,
   "id": "d02203ee",
   "metadata": {},
   "outputs": [
    {
     "data": {
      "text/plain": [
       "array([[   1,   25,   81,  182],\n",
       "       [ 306,  483,  675,  928],\n",
       "       [1188, 1517, 1845, 2250]])"
      ]
     },
     "execution_count": 48,
     "metadata": {},
     "output_type": "execute_result"
    }
   ],
   "source": [
    "np.multiply(arr1,arr2)"
   ]
  },
  {
   "cell_type": "code",
   "execution_count": 49,
   "id": "0cadd76c",
   "metadata": {},
   "outputs": [
    {
     "ename": "ValueError",
     "evalue": "matmul: Input operand 1 has a mismatch in its core dimension 0, with gufunc signature (n?,k),(k,m?)->(n?,m?) (size 3 is different from 4)",
     "output_type": "error",
     "traceback": [
      "\u001b[1;31m---------------------------------------------------------------------------\u001b[0m",
      "\u001b[1;31mValueError\u001b[0m                                Traceback (most recent call last)",
      "\u001b[1;32mC:\\Users\\LOKEVA~1\\AppData\\Local\\Temp/ipykernel_9392/3993301552.py\u001b[0m in \u001b[0;36m<module>\u001b[1;34m\u001b[0m\n\u001b[1;32m----> 1\u001b[1;33m \u001b[0marr1\u001b[0m \u001b[1;33m@\u001b[0m \u001b[0marr2\u001b[0m\u001b[1;33m\u001b[0m\u001b[1;33m\u001b[0m\u001b[0m\n\u001b[0m",
      "\u001b[1;31mValueError\u001b[0m: matmul: Input operand 1 has a mismatch in its core dimension 0, with gufunc signature (n?,k),(k,m?)->(n?,m?) (size 3 is different from 4)"
     ]
    }
   ],
   "source": [
    "arr1 @ arr2"
   ]
  },
  {
   "cell_type": "markdown",
   "id": "5ef85bae",
   "metadata": {},
   "source": [
    "# matrix multiplication"
   ]
  },
  {
   "cell_type": "code",
   "execution_count": null,
   "id": "a9952be5",
   "metadata": {},
   "outputs": [],
   "source": [
    "np.dot(arr1,arr2)"
   ]
  },
  {
   "cell_type": "code",
   "execution_count": null,
   "id": "412baf6e",
   "metadata": {},
   "outputs": [],
   "source": [
    "arr1"
   ]
  },
  {
   "cell_type": "code",
   "execution_count": null,
   "id": "b1b2f2e3",
   "metadata": {},
   "outputs": [],
   "source": [
    "arr1.max()"
   ]
  },
  {
   "cell_type": "code",
   "execution_count": null,
   "id": "ff34460e",
   "metadata": {},
   "outputs": [],
   "source": [
    "arr1.argmax()"
   ]
  },
  {
   "cell_type": "code",
   "execution_count": null,
   "id": "aef268e9",
   "metadata": {},
   "outputs": [],
   "source": [
    "arr1.max(axis=0)"
   ]
  },
  {
   "cell_type": "code",
   "execution_count": null,
   "id": "5e973f0f",
   "metadata": {},
   "outputs": [],
   "source": [
    "arr1.max(axis=1)"
   ]
  },
  {
   "cell_type": "code",
   "execution_count": null,
   "id": "3ec38843",
   "metadata": {},
   "outputs": [],
   "source": [
    "arr1.min()"
   ]
  },
  {
   "cell_type": "code",
   "execution_count": null,
   "id": "c592433d",
   "metadata": {},
   "outputs": [],
   "source": [
    "arr1.argmin()"
   ]
  },
  {
   "cell_type": "markdown",
   "id": "0d3a2f44",
   "metadata": {},
   "source": [
    "# "
   ]
  },
  {
   "cell_type": "code",
   "execution_count": null,
   "id": "0002f8b3",
   "metadata": {},
   "outputs": [],
   "source": [
    "arr1"
   ]
  },
  {
   "cell_type": "code",
   "execution_count": null,
   "id": "674009a4",
   "metadata": {},
   "outputs": [],
   "source": [
    "arr1.min(axis=0)"
   ]
  },
  {
   "cell_type": "code",
   "execution_count": null,
   "id": "f8a59473",
   "metadata": {},
   "outputs": [],
   "source": [
    "arr1.min(axis=1)"
   ]
  },
  {
   "cell_type": "markdown",
   "id": "5cbec8f9",
   "metadata": {},
   "source": [
    "# sum of the array elements"
   ]
  },
  {
   "cell_type": "code",
   "execution_count": null,
   "id": "4913a277",
   "metadata": {},
   "outputs": [],
   "source": [
    "np.sum(arr1)"
   ]
  },
  {
   "cell_type": "code",
   "execution_count": null,
   "id": "621d3727",
   "metadata": {},
   "outputs": [],
   "source": [
    "arr1"
   ]
  },
  {
   "cell_type": "code",
   "execution_count": null,
   "id": "df9bf165",
   "metadata": {},
   "outputs": [],
   "source": [
    "arr1.sum(axis=0)"
   ]
  },
  {
   "cell_type": "code",
   "execution_count": null,
   "id": "5468fce0",
   "metadata": {},
   "outputs": [],
   "source": [
    "arr1.sum(axis=1)"
   ]
  },
  {
   "cell_type": "code",
   "execution_count": null,
   "id": "6e465712",
   "metadata": {},
   "outputs": [],
   "source": [
    "np.mean(arr1)"
   ]
  },
  {
   "cell_type": "code",
   "execution_count": null,
   "id": "46ccd24c",
   "metadata": {},
   "outputs": [],
   "source": [
    "np.sqrt(arr1)"
   ]
  },
  {
   "cell_type": "code",
   "execution_count": null,
   "id": "e1155181",
   "metadata": {},
   "outputs": [],
   "source": [
    "np.std(arr1)"
   ]
  },
  {
   "cell_type": "code",
   "execution_count": null,
   "id": "e74031fd",
   "metadata": {},
   "outputs": [],
   "source": [
    "np.exp(arr1)"
   ]
  },
  {
   "cell_type": "code",
   "execution_count": null,
   "id": "fad619d0",
   "metadata": {},
   "outputs": [],
   "source": [
    "np.log(arr1)"
   ]
  },
  {
   "cell_type": "code",
   "execution_count": null,
   "id": "3a6c7f46",
   "metadata": {},
   "outputs": [],
   "source": [
    "np.log10(arr1)"
   ]
  },
  {
   "cell_type": "markdown",
   "id": "f888b0b7",
   "metadata": {},
   "source": [
    "# ACCESSING ELEMENTS"
   ]
  },
  {
   "cell_type": "code",
   "execution_count": null,
   "id": "ef188be8",
   "metadata": {},
   "outputs": [],
   "source": [
    "a=np.linspace(4,30,25,dtype=int).reshape(5,5)\n",
    "a"
   ]
  },
  {
   "cell_type": "code",
   "execution_count": null,
   "id": "9f946214",
   "metadata": {},
   "outputs": [],
   "source": [
    "a[1][3].ndim"
   ]
  },
  {
   "cell_type": "code",
   "execution_count": null,
   "id": "67eb2297",
   "metadata": {},
   "outputs": [],
   "source": [
    "a[4]  #to accesss a row"
   ]
  },
  {
   "cell_type": "code",
   "execution_count": null,
   "id": "ed57b6fc",
   "metadata": {},
   "outputs": [],
   "source": [
    "a[:,0]  #to access a column "
   ]
  },
  {
   "cell_type": "code",
   "execution_count": null,
   "id": "daa7ffc1",
   "metadata": {},
   "outputs": [],
   "source": [
    "a[:,2].ndim"
   ]
  },
  {
   "cell_type": "code",
   "execution_count": null,
   "id": "74fafc8d",
   "metadata": {},
   "outputs": [],
   "source": []
  },
  {
   "cell_type": "code",
   "execution_count": null,
   "id": "efa0eb38",
   "metadata": {},
   "outputs": [],
   "source": [
    "a"
   ]
  },
  {
   "cell_type": "markdown",
   "id": "ed31dae5",
   "metadata": {},
   "source": [
    "# to fetch a single column in 2d matrix"
   ]
  },
  {
   "cell_type": "code",
   "execution_count": null,
   "id": "38a5a8d7",
   "metadata": {},
   "outputs": [],
   "source": [
    "a[:,0:1]"
   ]
  },
  {
   "cell_type": "code",
   "execution_count": null,
   "id": "41dd7fce",
   "metadata": {},
   "outputs": [],
   "source": [
    "a[0,:]"
   ]
  },
  {
   "cell_type": "code",
   "execution_count": null,
   "id": "d39a9261",
   "metadata": {},
   "outputs": [],
   "source": [
    "a[:,3:5]"
   ]
  },
  {
   "cell_type": "code",
   "execution_count": null,
   "id": "fab57027",
   "metadata": {},
   "outputs": [],
   "source": [
    "a[:,1:3]"
   ]
  },
  {
   "cell_type": "code",
   "execution_count": null,
   "id": "859a8199",
   "metadata": {},
   "outputs": [],
   "source": [
    "a[1]"
   ]
  },
  {
   "cell_type": "code",
   "execution_count": null,
   "id": "440a1ddf",
   "metadata": {},
   "outputs": [],
   "source": [
    "a[0:1,:]"
   ]
  },
  {
   "cell_type": "code",
   "execution_count": null,
   "id": "2dfd25f4",
   "metadata": {},
   "outputs": [],
   "source": [
    "a"
   ]
  },
  {
   "cell_type": "code",
   "execution_count": null,
   "id": "eedc374c",
   "metadata": {},
   "outputs": [],
   "source": [
    "a[1:4,3:6]"
   ]
  },
  {
   "cell_type": "code",
   "execution_count": null,
   "id": "326c982d",
   "metadata": {},
   "outputs": [],
   "source": [
    "a"
   ]
  },
  {
   "cell_type": "code",
   "execution_count": null,
   "id": "b14714a9",
   "metadata": {},
   "outputs": [],
   "source": [
    "a[:]"
   ]
  },
  {
   "cell_type": "code",
   "execution_count": null,
   "id": "8989d25c",
   "metadata": {},
   "outputs": [],
   "source": [
    "a[:,:]"
   ]
  },
  {
   "cell_type": "code",
   "execution_count": null,
   "id": "e2003f57",
   "metadata": {},
   "outputs": [],
   "source": [
    "a.itemsize"
   ]
  },
  {
   "cell_type": "code",
   "execution_count": null,
   "id": "7a3af902",
   "metadata": {},
   "outputs": [],
   "source": [
    "a.dtype"
   ]
  },
  {
   "cell_type": "code",
   "execution_count": null,
   "id": "3b771c49",
   "metadata": {},
   "outputs": [],
   "source": [
    "32/4"
   ]
  },
  {
   "cell_type": "code",
   "execution_count": 52,
   "id": "be24fd9f",
   "metadata": {},
   "outputs": [
    {
     "data": {
      "text/plain": [
       "array([[ 0,  3,  7, 11],\n",
       "       [14, 18, 22, 25],\n",
       "       [29, 33, 36, 40],\n",
       "       [44, 47, 51, 55]])"
      ]
     },
     "execution_count": 52,
     "metadata": {},
     "output_type": "execute_result"
    }
   ],
   "source": [
    "arr1=np.linspace(0,55,16,dtype=int).reshape(4,4)\n",
    "arr1"
   ]
  },
  {
   "cell_type": "code",
   "execution_count": 53,
   "id": "ac5b0c77",
   "metadata": {},
   "outputs": [
    {
     "data": {
      "text/plain": [
       "array([[17, 18, 19, 20],\n",
       "       [21, 22, 23, 24],\n",
       "       [25, 26, 27, 28],\n",
       "       [29, 30, 31, 32]])"
      ]
     },
     "execution_count": 53,
     "metadata": {},
     "output_type": "execute_result"
    }
   ],
   "source": [
    "arr2=np.arange(17,33).reshape(4,4)\n",
    "arr2"
   ]
  },
  {
   "cell_type": "markdown",
   "id": "5e4777b7",
   "metadata": {},
   "source": [
    "# concatenation"
   ]
  },
  {
   "cell_type": "code",
   "execution_count": 51,
   "id": "ffc7dd56",
   "metadata": {},
   "outputs": [
    {
     "data": {
      "text/plain": [
       "array([[ 1,  5,  9, 14],\n",
       "       [18, 23, 27, 32],\n",
       "       [36, 41, 45, 50],\n",
       "       [ 1,  5,  9, 13],\n",
       "       [17, 21, 25, 29],\n",
       "       [33, 37, 41, 45]])"
      ]
     },
     "execution_count": 51,
     "metadata": {},
     "output_type": "execute_result"
    }
   ],
   "source": [
    "np.concatenate((arr1,arr2))"
   ]
  },
  {
   "cell_type": "code",
   "execution_count": 54,
   "id": "89ce73ee",
   "metadata": {},
   "outputs": [
    {
     "data": {
      "text/plain": [
       "array([[ 0,  3,  7, 11, 17, 18, 19, 20],\n",
       "       [14, 18, 22, 25, 21, 22, 23, 24],\n",
       "       [29, 33, 36, 40, 25, 26, 27, 28],\n",
       "       [44, 47, 51, 55, 29, 30, 31, 32]])"
      ]
     },
     "execution_count": 54,
     "metadata": {},
     "output_type": "execute_result"
    }
   ],
   "source": [
    "np.concatenate((arr1,arr2),axis=1)"
   ]
  },
  {
   "cell_type": "code",
   "execution_count": 50,
   "id": "721449bf",
   "metadata": {},
   "outputs": [
    {
     "data": {
      "text/plain": [
       "array([[ 1,  5,  9, 14],\n",
       "       [18, 23, 27, 32],\n",
       "       [36, 41, 45, 50],\n",
       "       [ 1,  5,  9, 13],\n",
       "       [17, 21, 25, 29],\n",
       "       [33, 37, 41, 45]])"
      ]
     },
     "execution_count": 50,
     "metadata": {},
     "output_type": "execute_result"
    }
   ],
   "source": [
    "np.vstack((arr1,arr2))"
   ]
  },
  {
   "cell_type": "code",
   "execution_count": 55,
   "id": "29ee52c5",
   "metadata": {},
   "outputs": [
    {
     "data": {
      "text/plain": [
       "array([[ 0,  3,  7, 11, 17, 18, 19, 20],\n",
       "       [14, 18, 22, 25, 21, 22, 23, 24],\n",
       "       [29, 33, 36, 40, 25, 26, 27, 28],\n",
       "       [44, 47, 51, 55, 29, 30, 31, 32]])"
      ]
     },
     "execution_count": 55,
     "metadata": {},
     "output_type": "execute_result"
    }
   ],
   "source": [
    "np.hstack((arr1,arr2))"
   ]
  },
  {
   "cell_type": "markdown",
   "id": "f4ad04a0",
   "metadata": {},
   "source": [
    "# "
   ]
  },
  {
   "cell_type": "code",
   "execution_count": 60,
   "id": "40c77be3",
   "metadata": {},
   "outputs": [
    {
     "data": {
      "text/plain": [
       "array([[ 0,  3,  7, 11],\n",
       "       [14, 18, 22, 25],\n",
       "       [29, 33, 36, 40],\n",
       "       [44, 47, 51, 55]])"
      ]
     },
     "execution_count": 60,
     "metadata": {},
     "output_type": "execute_result"
    }
   ],
   "source": [
    "arr1\n"
   ]
  },
  {
   "cell_type": "code",
   "execution_count": null,
   "id": "d957a8c2",
   "metadata": {},
   "outputs": [],
   "source": [
    "l=np.split(arr1,2)"
   ]
  },
  {
   "cell_type": "code",
   "execution_count": null,
   "id": "4110d445",
   "metadata": {},
   "outputs": [],
   "source": [
    "type(l)"
   ]
  },
  {
   "cell_type": "code",
   "execution_count": null,
   "id": "f103b509",
   "metadata": {},
   "outputs": [],
   "source": [
    "l1=l[0]\n",
    "l1"
   ]
  },
  {
   "cell_type": "code",
   "execution_count": null,
   "id": "7cb0f38c",
   "metadata": {},
   "outputs": [],
   "source": [
    "type(l1)"
   ]
  },
  {
   "cell_type": "code",
   "execution_count": 59,
   "id": "d55eb30b",
   "metadata": {},
   "outputs": [
    {
     "data": {
      "text/plain": [
       "[array([[ 0,  3],\n",
       "        [14, 18],\n",
       "        [29, 33],\n",
       "        [44, 47]]),\n",
       " array([[ 7, 11],\n",
       "        [22, 25],\n",
       "        [36, 40],\n",
       "        [51, 55]])]"
      ]
     },
     "execution_count": 59,
     "metadata": {},
     "output_type": "execute_result"
    }
   ],
   "source": [
    "l=np.split(arr1,2,axis=1)\n",
    "l"
   ]
  },
  {
   "cell_type": "code",
   "execution_count": 56,
   "id": "9f64476f",
   "metadata": {},
   "outputs": [
    {
     "data": {
      "text/plain": [
       "array([ 10,   2,  33,   6,  54,  94,   2, 236])"
      ]
     },
     "execution_count": 56,
     "metadata": {},
     "output_type": "execute_result"
    }
   ],
   "source": [
    "list=np.array([10,2,33,6,54,94,2,236])\n",
    "list"
   ]
  },
  {
   "cell_type": "code",
   "execution_count": 57,
   "id": "56a8452c",
   "metadata": {},
   "outputs": [
    {
     "data": {
      "text/plain": [
       "8"
      ]
     },
     "execution_count": 57,
     "metadata": {},
     "output_type": "execute_result"
    }
   ],
   "source": [
    "list.size"
   ]
  },
  {
   "cell_type": "code",
   "execution_count": 62,
   "id": "5c0dd7d8",
   "metadata": {},
   "outputs": [
    {
     "data": {
      "text/plain": [
       "[array([10,  2]), array([33,  6, 54]), array([94,  2]), array([236])]"
      ]
     },
     "execution_count": 62,
     "metadata": {},
     "output_type": "execute_result"
    }
   ],
   "source": [
    "l1=np.split(list,[2,5,7])\n",
    "l1"
   ]
  },
  {
   "cell_type": "code",
   "execution_count": 63,
   "id": "936dc40d",
   "metadata": {},
   "outputs": [
    {
     "data": {
      "text/plain": [
       "[array([10,  2]), array([33,  6, 54]), array([ 94,   2, 236])]"
      ]
     },
     "execution_count": 63,
     "metadata": {},
     "output_type": "execute_result"
    }
   ],
   "source": [
    "l1=np.split(list,[2,5])\n",
    "l1"
   ]
  },
  {
   "cell_type": "code",
   "execution_count": null,
   "id": "22d32b68",
   "metadata": {},
   "outputs": [],
   "source": []
  }
 ],
 "metadata": {
  "kernelspec": {
   "display_name": "Python 3 (ipykernel)",
   "language": "python",
   "name": "python3"
  },
  "language_info": {
   "codemirror_mode": {
    "name": "ipython",
    "version": 3
   },
   "file_extension": ".py",
   "mimetype": "text/x-python",
   "name": "python",
   "nbconvert_exporter": "python",
   "pygments_lexer": "ipython3",
   "version": "3.9.7"
  }
 },
 "nbformat": 4,
 "nbformat_minor": 5
}
