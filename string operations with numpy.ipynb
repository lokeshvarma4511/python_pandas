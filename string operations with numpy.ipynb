{
 "cells": [
  {
   "cell_type": "code",
   "execution_count": 5,
   "id": "4a7239ab",
   "metadata": {},
   "outputs": [],
   "source": [
    "import numpy as np"
   ]
  },
  {
   "cell_type": "code",
   "execution_count": 6,
   "id": "d9942990",
   "metadata": {},
   "outputs": [],
   "source": [
    "str1=(\"ai india\")\n",
    "str2=(\"ml india\")"
   ]
  },
  {
   "cell_type": "code",
   "execution_count": 7,
   "id": "d87d600a",
   "metadata": {},
   "outputs": [
    {
     "data": {
      "text/plain": [
       "array('ai indiaml india', dtype='<U16')"
      ]
     },
     "execution_count": 7,
     "metadata": {},
     "output_type": "execute_result"
    }
   ],
   "source": [
    "np.char.add(str1,str2)"
   ]
  },
  {
   "cell_type": "code",
   "execution_count": 8,
   "id": "f07852f9",
   "metadata": {},
   "outputs": [
    {
     "data": {
      "text/plain": [
       "array('AI INDIA', dtype='<U8')"
      ]
     },
     "execution_count": 8,
     "metadata": {},
     "output_type": "execute_result"
    }
   ],
   "source": [
    "np.char.upper(str1)"
   ]
  },
  {
   "cell_type": "code",
   "execution_count": 9,
   "id": "ee9167ea",
   "metadata": {},
   "outputs": [
    {
     "data": {
      "text/plain": [
       "array('ml india', dtype='<U8')"
      ]
     },
     "execution_count": 9,
     "metadata": {},
     "output_type": "execute_result"
    }
   ],
   "source": [
    "np.char.lower(str2)"
   ]
  },
  {
   "cell_type": "code",
   "execution_count": 10,
   "id": "2435bad6",
   "metadata": {},
   "outputs": [
    {
     "data": {
      "text/plain": [
       "array(\"'''''''''''ai india'''''''''''\", dtype='<U30')"
      ]
     },
     "execution_count": 10,
     "metadata": {},
     "output_type": "execute_result"
    }
   ],
   "source": [
    "np.char.center(str1,30,fillchar=\"'\")"
   ]
  },
  {
   "cell_type": "code",
   "execution_count": 11,
   "id": "7f3c3ee6",
   "metadata": {},
   "outputs": [
    {
     "data": {
      "text/plain": [
       "array(list(['ai', 'india']), dtype=object)"
      ]
     },
     "execution_count": 11,
     "metadata": {},
     "output_type": "execute_result"
    }
   ],
   "source": [
    "np.char.split(str1)"
   ]
  },
  {
   "cell_type": "code",
   "execution_count": 12,
   "id": "fa2e71c2",
   "metadata": {},
   "outputs": [
    {
     "data": {
      "text/plain": [
       "array(list(['apple', 'ball']), dtype=object)"
      ]
     },
     "execution_count": 12,
     "metadata": {},
     "output_type": "execute_result"
    }
   ],
   "source": [
    "np.char.splitlines(\"apple\\nball\")"
   ]
  },
  {
   "cell_type": "code",
   "execution_count": 13,
   "id": "8cc5bd53",
   "metadata": {},
   "outputs": [
    {
     "data": {
      "text/plain": [
       "'ai india'"
      ]
     },
     "execution_count": 13,
     "metadata": {},
     "output_type": "execute_result"
    }
   ],
   "source": [
    "str1"
   ]
  },
  {
   "cell_type": "code",
   "execution_count": 23,
   "id": "a272ec7a",
   "metadata": {},
   "outputs": [
    {
     "data": {
      "text/plain": [
       "array(['a;i; ;i;n;d;i;a', 'm:l: :i:n:d:i:a'], dtype='<U15')"
      ]
     },
     "execution_count": 23,
     "metadata": {},
     "output_type": "execute_result"
    }
   ],
   "source": [
    "a=np.char.join([\";\",\":\"],[str1,str2])\n",
    "a"
   ]
  },
  {
   "cell_type": "code",
   "execution_count": 20,
   "id": "53237d13",
   "metadata": {},
   "outputs": [
    {
     "data": {
      "text/plain": [
       "array('artificial intelligence india', dtype='<U29')"
      ]
     },
     "execution_count": 20,
     "metadata": {},
     "output_type": "execute_result"
    }
   ],
   "source": [
    "np.char.replace(str1,\"ai\",\"artificial intelligence\") "
   ]
  },
  {
   "cell_type": "code",
   "execution_count": 16,
   "id": "a8056d1d",
   "metadata": {},
   "outputs": [
    {
     "data": {
      "text/plain": [
       "array(False)"
      ]
     },
     "execution_count": 16,
     "metadata": {},
     "output_type": "execute_result"
    }
   ],
   "source": [
    "np.char.equal(str1,str2)"
   ]
  },
  {
   "cell_type": "code",
   "execution_count": 17,
   "id": "e08f9dd2",
   "metadata": {},
   "outputs": [
    {
     "data": {
      "text/plain": [
       "False"
      ]
     },
     "execution_count": 17,
     "metadata": {},
     "output_type": "execute_result"
    }
   ],
   "source": [
    "str1==str2"
   ]
  },
  {
   "cell_type": "code",
   "execution_count": 18,
   "id": "9b3e9bc5",
   "metadata": {},
   "outputs": [
    {
     "data": {
      "text/plain": [
       "array(0)"
      ]
     },
     "execution_count": 18,
     "metadata": {},
     "output_type": "execute_result"
    }
   ],
   "source": [
    "np.char.count(str1,\"p\")"
   ]
  },
  {
   "cell_type": "code",
   "execution_count": 19,
   "id": "2f8795f9",
   "metadata": {},
   "outputs": [
    {
     "data": {
      "text/plain": [
       "array(5)"
      ]
     },
     "execution_count": 19,
     "metadata": {},
     "output_type": "execute_result"
    }
   ],
   "source": [
    "np.char.find(str1,\"d\")"
   ]
  },
  {
   "cell_type": "code",
   "execution_count": null,
   "id": "46f62e55",
   "metadata": {},
   "outputs": [],
   "source": []
  }
 ],
 "metadata": {
  "kernelspec": {
   "display_name": "Python 3 (ipykernel)",
   "language": "python",
   "name": "python3"
  },
  "language_info": {
   "codemirror_mode": {
    "name": "ipython",
    "version": 3
   },
   "file_extension": ".py",
   "mimetype": "text/x-python",
   "name": "python",
   "nbconvert_exporter": "python",
   "pygments_lexer": "ipython3",
   "version": "3.9.7"
  }
 },
 "nbformat": 4,
 "nbformat_minor": 5
}
